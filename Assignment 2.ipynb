{
 "cells": [
  {
   "cell_type": "code",
   "execution_count": 8,
   "metadata": {},
   "outputs": [
    {
     "name": "stdout",
     "output_type": "stream",
     "text": [
      "enter number5\n",
      "3 2 1 1 0\n"
     ]
    }
   ],
   "source": [
    "def q1(x):\n",
    "    while x-2!=0:\n",
    "        a=0\n",
    "        b=1\n",
    "        c=0\n",
    "        for i in range(x-2):\n",
    "            c=a+b\n",
    "            a=b\n",
    "            b=c\n",
    "        print(c,end=\" \")\n",
    "        x-=1\n",
    "    print('1 0')\n",
    "    return\n",
    "q1(int(input(\"enter number\")))"
   ]
  },
  {
   "cell_type": "code",
   "execution_count": 2,
   "metadata": {},
   "outputs": [
    {
     "name": "stdout",
     "output_type": "stream",
     "text": [
      "no of values4\n",
      "1\n",
      "2\n",
      "3\n",
      "2\n"
     ]
    },
    {
     "data": {
      "text/plain": [
       "4"
      ]
     },
     "execution_count": 2,
     "metadata": {},
     "output_type": "execute_result"
    }
   ],
   "source": [
    "def Q2(n):\n",
    "    a=[]\n",
    "    s=0\n",
    "    for i in range(n):\n",
    "        a.append(int(input()))\n",
    "    for i in range(n):\n",
    "        c=0\n",
    "        for j in range(n):\n",
    "            if i!=j:\n",
    "                if a[i]==a[j]:\n",
    "                    c+=1\n",
    "        if c==0:\n",
    "            s=s+a[i]\n",
    "    return s\n",
    "Q2(int(input(\"no of values\")))\n"
   ]
  },
  {
   "cell_type": "code",
   "execution_count": 10,
   "metadata": {},
   "outputs": [
    {
     "name": "stdout",
     "output_type": "stream",
     "text": [
      "enter str:fjdhfdffsdfsd dfjdfdshf\n",
      "f d\n",
      "j f\n",
      "d j\n",
      "h d\n",
      "f f\n",
      "d d\n",
      "f s\n",
      "f h\n",
      "s f\n",
      "d *\n",
      "f *\n",
      "s *\n",
      "d *\n"
     ]
    }
   ],
   "source": [
    "def Q3(a,b):\n",
    "    if len(a)<=len(b):\n",
    "        n=len(a)\n",
    "        k=len(b)\n",
    "    else:\n",
    "        n=len(b)\n",
    "        k=len(a)\n",
    "    for i in range(n):\n",
    "        print(a[i],b[i])\n",
    "    for j in range(n,k):\n",
    "        if(len(a)<=len(b)):\n",
    "            print(b[j],'*')\n",
    "        else:\n",
    "            print(a[j],'*')\n",
    "    return\n",
    "x=str(input(\"enter str:\"))\n",
    "x=x.split()\n",
    "Q3(x[0],x[1])"
   ]
  },
  {
   "cell_type": "code",
   "execution_count": 11,
   "metadata": {},
   "outputs": [
    {
     "name": "stdout",
     "output_type": "stream",
     "text": [
      "enter str:vin ay\n",
      "VIN\n"
     ]
    }
   ],
   "source": [
    "def Q4(a,b):\n",
    "    if len(a)>=len(b):\n",
    "        print(a.upper())\n",
    "    else:\n",
    "        print(b.upper())\n",
    "    return\n",
    "x=str(input(\"enter str:\"))\n",
    "x=x.split()\n",
    "Q4(x[0],x[1])"
   ]
  },
  {
   "cell_type": "code",
   "execution_count": 12,
   "metadata": {},
   "outputs": [
    {
     "name": "stdout",
     "output_type": "stream",
     "text": [
      "enter str:Nallabelly vinay\n",
      "NALLABELLY "
     ]
    }
   ],
   "source": [
    "def Q5_1(a):\n",
    "    a=a.split()\n",
    "    for i in range (len(a)):\n",
    "        if a[i].istitle()==True:\n",
    "            print(a[i].upper(),end= \" \")\n",
    "    return\n",
    "x=str(input(\"enter str:\"))\n",
    "Q5_1(x)"
   ]
  },
  {
   "cell_type": "code",
   "execution_count": 13,
   "metadata": {},
   "outputs": [
    {
     "name": "stdout",
     "output_type": "stream",
     "text": [
      "enter num1234\n",
      "*\n",
      "**\n",
      "***\n",
      "****\n"
     ]
    }
   ],
   "source": [
    "def Q7(n):\n",
    "    for i in range(len(n)):\n",
    "        n[i]=int(n[i])\n",
    "    for i in range(len(n)):\n",
    "        for j in range(n[i]):\n",
    "            print(\"*\",end=\"\")\n",
    "        print(\"\")\n",
    "    return\n",
    "x=input(\"enter num\")\n",
    "Q7(list(x))"
   ]
  },
  {
   "cell_type": "code",
   "execution_count": 27,
   "metadata": {},
   "outputs": [
    {
     "name": "stdout",
     "output_type": "stream",
     "text": [
      "enter a number100\n",
      "1 2 4 8 16 32 64 128 256 512 1024 2048 4096 8192 16384 32768 65536 131072 262144 524288 1048576 2097152 4194304 8388608 16777216 33554432 67108864 134217728 268435456 536870912 1073741824 2147483648 4294967296 8589934592 17179869184 34359738368 68719476736 137438953472 274877906944 549755813888 1099511627776 2199023255552 4398046511104 8796093022208 17592186044416 35184372088832 70368744177664 140737488355328 281474976710656 562949953421312 1125899906842624 2251799813685248 4503599627370496 9007199254740992 18014398509481984 36028797018963968 72057594037927936 144115188075855872 288230376151711744 576460752303423488 1152921504606846976 2305843009213693952 4611686018427387904 9223372036854775808 18446744073709551616 36893488147419103232 73786976294838206464 147573952589676412928 295147905179352825856 590295810358705651712 1180591620717411303424 2361183241434822606848 4722366482869645213696 9444732965739290427392 18889465931478580854784 37778931862957161709568 75557863725914323419136 151115727451828646838272 302231454903657293676544 604462909807314587353088 1208925819614629174706176 2417851639229258349412352 4835703278458516698824704 9671406556917033397649408 19342813113834066795298816 38685626227668133590597632 77371252455336267181195264 154742504910672534362390528 309485009821345068724781056 618970019642690137449562112 1237940039285380274899124224 2475880078570760549798248448 4951760157141521099596496896 9903520314283042199192993792 19807040628566084398385987584 39614081257132168796771975168 79228162514264337593543950336 158456325028528675187087900672 316912650057057350374175801344 633825300114114700748351602688 "
     ]
    }
   ],
   "source": [
    "def square(n):\n",
    "    for i in range(n):\n",
    "        print(2**i,end=\" \")\n",
    "    return\n",
    "n=int(input(\"enter a number\"))\n",
    "square(n)"
   ]
  },
  {
   "cell_type": "code",
   "execution_count": null,
   "metadata": {},
   "outputs": [],
   "source": []
  }
 ],
 "metadata": {
  "kernelspec": {
   "display_name": "Python 3",
   "language": "python",
   "name": "python3"
  },
  "language_info": {
   "codemirror_mode": {
    "name": "ipython",
    "version": 3
   },
   "file_extension": ".py",
   "mimetype": "text/x-python",
   "name": "python",
   "nbconvert_exporter": "python",
   "pygments_lexer": "ipython3",
   "version": "3.7.3"
  }
 },
 "nbformat": 4,
 "nbformat_minor": 2
}
